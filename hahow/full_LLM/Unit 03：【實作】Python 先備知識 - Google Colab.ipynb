{
 "nbformat": 4,
 "nbformat_minor": 0,
 "metadata": {
  "colab": {
   "provenance": [],
   "authorship_tag": "ABX9TyPcnCgWoJchFUgizQWBNlKh"
  },
  "kernelspec": {
   "name": "python3",
   "language": "python",
   "display_name": "Python 3 (ipykernel)"
  },
  "language_info": {
   "name": "python"
  }
 },
 "cells": [
  {
   "cell_type": "markdown",
   "source": [
    "![](https://raw.githubusercontent.com/chenkenanalytic/img/master/af/aifreeteam.png)"
   ],
   "metadata": {
    "id": "MdXJiIFNdI0P"
   }
  },
  {
   "cell_type": "markdown",
   "source": [
    "# Unit 03：Python 先備知識實作\n",
    "\n",
    "## 📚 學習目標\n",
    "* 了解 Python 的基本資料型態\n",
    "* 掌握 Python 的基本運算符號\n",
    "* 學習 Python 的流程控制結構\n",
    "* 了解 Python 的函數定義與使用\n",
    "* 熟悉 Python 的資料結構（列表、字典、元組）\n",
    "\n",
    "## 🔍 為什麼選擇 Python？\n",
    "\n",
    "Python 是人工智慧和機器學習領域最受歡迎的程式語言之一，原因包括：\n",
    "* 📊 豐富的資料科學相關套件\n",
    "* 🔧 簡潔易讀的語法\n",
    "* 🌐 龐大的開發者社群\n",
    "* 📚 完整的學習資源\n",
    "* 🛠️ 多樣的應用領域"
   ],
   "metadata": {
    "id": "bQmqEnYndNXw"
   }
  },
  {
   "cell_type": "markdown",
   "source": [
    "## 1️⃣ Python 基本資料型態\n",
    "\n",
    "Python 中的基本資料型態包括：\n",
    "* 數值型態（Numeric）：整數（int）、浮點數（float）\n",
    "* 字串（String）\n",
    "* 布林值（Boolean）\n",
    "* 空值（None）\n",
    "\n",
    "讓我們透過實例來了解這些資料型態。"
   ],
   "metadata": {
    "id": "3kzd0HYOdRbG"
   }
  },
  {
   "cell_type": "code",
   "source": [
    "# 數值型態\n",
    "integer_number = 42\n",
    "float_number = 3.14\n",
    "print(f\"整數範例: {integer_number}, 型態: {type(integer_number)}\")\n",
    "print(f\"浮點數範例: {float_number}, 型態: {type(float_number)}\")\n",
    "\n",
    "# 字串\n",
    "text = \"Hello, Python!\"\n",
    "print(f\"\\n字串範例: {text}, 型態: {type(text)}\")\n",
    "\n",
    "# 布林值\n",
    "is_python_fun = True\n",
    "print(f\"\\n布林值範例: {is_python_fun}, 型態: {type(is_python_fun)}\")\n",
    "\n",
    "# None\n",
    "empty_value = None\n",
    "print(f\"\\n無值範例: {empty_value}, 型態: {type(empty_value)}\")"
   ],
   "metadata": {
    "id": "n5OS8LrqdTle",
    "colab": {
     "base_uri": "https://localhost:8080/"
    },
    "executionInfo": {
     "status": "ok",
     "timestamp": 1732462082231,
     "user_tz": -480,
     "elapsed": 489,
     "user": {
      "displayName": "李浩維",
      "userId": "12896599080187896274"
     }
    },
    "outputId": "f093fdac-2bbd-4db6-c6fb-63a4db444f16",
    "ExecuteTime": {
     "end_time": "2025-02-25T07:44:37.251091Z",
     "start_time": "2025-02-25T07:44:37.247762Z"
    }
   },
   "execution_count": 1,
   "outputs": [
    {
     "name": "stdout",
     "output_type": "stream",
     "text": [
      "整數範例: 42, 型態: <class 'int'>\n",
      "浮點數範例: 3.14, 型態: <class 'float'>\n",
      "\n",
      "字串範例: Hello, Python!, 型態: <class 'str'>\n",
      "\n",
      "布林值範例: True, 型態: <class 'bool'>\n",
      "\n",
      "無值範例: None, 型態: <class 'NoneType'>\n"
     ]
    }
   ]
  },
  {
   "cell_type": "markdown",
   "source": [
    "## 2️⃣ Python 基本運算\n",
    "\n",
    "Python 支援多種運算符號：\n",
    "* 算術運算：+, -, *, /, //, %, **\n",
    "* 比較運算：==, !=, >, <, >=, <=\n",
    "* 邏輯運算：and, or, not\n",
    "\n",
    "讓我們通過實例來學習這些運算符號的使用。"
   ],
   "metadata": {
    "id": "xGSXXGKfdVHL"
   }
  },
  {
   "cell_type": "code",
   "source": [
    "# 算術運算\n",
    "print(\"算術運算示例：\")\n",
    "a = 10\n",
    "b = 3\n",
    "\n",
    "print(f\"加法: {a} + {b} = {a + b}\")\n",
    "print(f\"減法: {a} - {b} = {a - b}\")\n",
    "print(f\"乘法: {a} * {b} = {a * b}\")\n",
    "print(f\"除法: {a} / {b} = {a / b}\")\n",
    "print(f\"整數除法: {a} // {b} = {a // b}\")\n",
    "print(f\"餘數: {a} % {b} = {a % b}\")\n",
    "print(f\"次方: {a} ** {b} = {a ** b}\")\n",
    "\n",
    "# 比較運算\n",
    "print(\"\\n比較運算示例：\")\n",
    "x = 5\n",
    "y = 8\n",
    "print(f\"{x} > {y}: {x > y}\")\n",
    "print(f\"{x} < {y}: {x < y}\")\n",
    "print(f\"{x} == {y}: {x == y}\")\n",
    "print(f\"{x} != {y}: {x != y}\")\n",
    "\n",
    "# 邏輯運算\n",
    "print(\"\\n邏輯運算示例：\")\n",
    "condition1 = True\n",
    "condition2 = False\n",
    "print(f\"AND: {condition1} and {condition2} = {condition1 and condition2}\")\n",
    "print(f\"OR: {condition1} or {condition2} = {condition1 or condition2}\")\n",
    "print(f\"NOT: not {condition1} = {not condition1}\")"
   ],
   "metadata": {
    "id": "plGCpCXqdWUL",
    "colab": {
     "base_uri": "https://localhost:8080/"
    },
    "executionInfo": {
     "status": "ok",
     "timestamp": 1732462242075,
     "user_tz": -480,
     "elapsed": 512,
     "user": {
      "displayName": "李浩維",
      "userId": "12896599080187896274"
     }
    },
    "outputId": "7c473845-20dc-4614-f21b-775aaa784a49",
    "ExecuteTime": {
     "end_time": "2025-02-25T07:44:45.495812Z",
     "start_time": "2025-02-25T07:44:45.492573Z"
    }
   },
   "execution_count": 2,
   "outputs": [
    {
     "name": "stdout",
     "output_type": "stream",
     "text": [
      "算術運算示例：\n",
      "加法: 10 + 3 = 13\n",
      "減法: 10 - 3 = 7\n",
      "乘法: 10 * 3 = 30\n",
      "除法: 10 / 3 = 3.3333333333333335\n",
      "整數除法: 10 // 3 = 3\n",
      "餘數: 10 % 3 = 1\n",
      "次方: 10 ** 3 = 1000\n",
      "\n",
      "比較運算示例：\n",
      "5 > 8: False\n",
      "5 < 8: True\n",
      "5 == 8: False\n",
      "5 != 8: True\n",
      "\n",
      "邏輯運算示例：\n",
      "AND: True and False = False\n",
      "OR: True or False = True\n",
      "NOT: not True = False\n"
     ]
    }
   ]
  },
  {
   "cell_type": "markdown",
   "source": [
    "## 3️⃣ 流程控制結構\n",
    "\n",
    "Python 的流程控制結構主要包括：\n",
    "* 條件判斷（if-elif-else）\n",
    "* 迴圈結構（for, while）\n",
    "* 控制語句（break, continue）\n",
    "\n",
    "以下通過實例來學習這些控制結構的使用。"
   ],
   "metadata": {
    "id": "RjQlVdAjdXaR"
   }
  },
  {
   "cell_type": "code",
   "source": [
    "# 條件判斷示例\n",
    "def check_number(number):\n",
    "    if number > 0:\n",
    "        return \"Positive\"\n",
    "    elif number < 0:\n",
    "        return \"Negative\"\n",
    "    else:\n",
    "        return \"Zero\"\n",
    "\n",
    "# 測試條件判斷\n",
    "print(\"條件判斷示例：\")\n",
    "numbers = [5, -3, 0]\n",
    "for num in numbers:\n",
    "    print(f\"Number {num} is {check_number(num)}\")\n",
    "\n",
    "# for 迴圈示例\n",
    "print(\"\\nfor 迴圈示例：\")\n",
    "fruits = [\"apple\", \"banana\", \"orange\"]\n",
    "for i, fruit in enumerate(fruits, 1):\n",
    "    print(f\"Fruit {i}: {fruit}\")\n",
    "\n",
    "# while 迴圈示例\n",
    "print(\"\\nwhile 迴圈示例：\")\n",
    "countdown = 5\n",
    "while countdown > 0:\n",
    "    print(f\"Countdown: {countdown}\")\n",
    "    countdown -= 1\n",
    "print(\"Liftoff! 🚀\")\n",
    "\n",
    "# break 和 continue 示例\n",
    "print(\"\\nbreak 和 continue 示例：\")\n",
    "for i in range(1, 6):\n",
    "    if i == 3:\n",
    "        continue  # 跳過 3\n",
    "    if i == 5:\n",
    "        break    # 到 5 就停止\n",
    "    print(f\"Current number: {i}\")"
   ],
   "metadata": {
    "id": "4766zGh_eKEY",
    "colab": {
     "base_uri": "https://localhost:8080/"
    },
    "executionInfo": {
     "status": "ok",
     "timestamp": 1732462867394,
     "user_tz": -480,
     "elapsed": 483,
     "user": {
      "displayName": "李浩維",
      "userId": "12896599080187896274"
     }
    },
    "outputId": "f2e5602f-0cfd-4e67-a990-d74aa3d4ca67",
    "ExecuteTime": {
     "end_time": "2025-02-25T07:44:56.767681Z",
     "start_time": "2025-02-25T07:44:56.764820Z"
    }
   },
   "execution_count": 3,
   "outputs": [
    {
     "name": "stdout",
     "output_type": "stream",
     "text": [
      "條件判斷示例：\n",
      "Number 5 is Positive\n",
      "Number -3 is Negative\n",
      "Number 0 is Zero\n",
      "\n",
      "for 迴圈示例：\n",
      "Fruit 1: apple\n",
      "Fruit 2: banana\n",
      "Fruit 3: orange\n",
      "\n",
      "while 迴圈示例：\n",
      "Countdown: 5\n",
      "Countdown: 4\n",
      "Countdown: 3\n",
      "Countdown: 2\n",
      "Countdown: 1\n",
      "Liftoff! 🚀\n",
      "\n",
      "break 和 continue 示例：\n",
      "Current number: 1\n",
      "Current number: 2\n",
      "Current number: 4\n"
     ]
    }
   ]
  },
  {
   "cell_type": "markdown",
   "source": [
    "## 4️⃣ 函數定義與使用\n",
    "\n",
    "Python 函數的特點：\n",
    "* 使用 def 關鍵字定義\n",
    "* 可以有參數和返回值\n",
    "* 支援預設參數\n",
    "\n",
    "讓我們來看一些函數的實際應用。"
   ],
   "metadata": {
    "id": "hI4PwPrWeLJ3"
   }
  },
  {
   "cell_type": "code",
   "source": [
    "# 基本函數定義\n",
    "def greet(name):\n",
    "    return f\"Hello, {name}!\"\n",
    "\n",
    "# 帶預設參數的函數\n",
    "def power(base, exponent=2):\n",
    "    return base ** exponent\n",
    "\n",
    "# 帶多個返回值的函數\n",
    "def calculate_statistics(numbers):\n",
    "    return min(numbers), max(numbers), sum(numbers)/len(numbers)\n",
    "\n",
    "# 測試函數\n",
    "print(\"基本函數示例：\")\n",
    "print(greet(\"Python\"))\n",
    "\n",
    "print(\"\\n預設參數函數示例：\")\n",
    "print(f\"2的平方: {power(2)}\")\n",
    "print(f\"2的3次方: {power(2, 3)}\")\n",
    "\n",
    "print(\"\\n多返回值函數示例：\")\n",
    "numbers = [1, 2, 3, 4, 5]\n",
    "minimum, maximum, average = calculate_statistics(numbers)\n",
    "print(f\"Numbers: {numbers}\")\n",
    "print(f\"Minimum: {minimum}\")\n",
    "print(f\"Maximum: {maximum}\")\n",
    "print(f\"Average: {average}\")"
   ],
   "metadata": {
    "id": "_qeAudymeMjq",
    "colab": {
     "base_uri": "https://localhost:8080/"
    },
    "executionInfo": {
     "status": "ok",
     "timestamp": 1732463841896,
     "user_tz": -480,
     "elapsed": 3,
     "user": {
      "displayName": "李浩維",
      "userId": "12896599080187896274"
     }
    },
    "outputId": "e1a6ba56-4e00-489a-b6ed-a997264aa57d",
    "ExecuteTime": {
     "end_time": "2025-02-25T07:45:00.509091Z",
     "start_time": "2025-02-25T07:45:00.506227Z"
    }
   },
   "execution_count": 4,
   "outputs": [
    {
     "name": "stdout",
     "output_type": "stream",
     "text": [
      "基本函數示例：\n",
      "Hello, Python!\n",
      "\n",
      "預設參數函數示例：\n",
      "2的平方: 4\n",
      "2的3次方: 8\n",
      "\n",
      "多返回值函數示例：\n",
      "Numbers: [1, 2, 3, 4, 5]\n",
      "Minimum: 1\n",
      "Maximum: 5\n",
      "Average: 3.0\n"
     ]
    }
   ]
  },
  {
   "cell_type": "markdown",
   "source": [
    "## 5️⃣ Python 資料結構\n",
    "\n",
    "Python 的主要資料結構：\n",
    "* 列表（List）：可變序列\n",
    "* 元組（Tuple）：不可變序列\n",
    "* 字典（Dictionary）：鍵值對\n",
    "* 集合（Set）：無序不重複元素集合\n",
    "\n",
    "讓我們來看看這些資料結構的使用方式。"
   ],
   "metadata": {
    "id": "CjCWHAhZeNd2"
   }
  },
  {
   "cell_type": "code",
   "source": [
    "# List操作\n",
    "print(\"List操作示例：\")\n",
    "fruits = ['apple', 'banana', 'orange']\n",
    "fruits.append('grape')\n",
    "print(f\"List: {fruits}\")\n",
    "print(f\"First fruit: {fruits[0]}\")\n",
    "print(f\"Last fruit: {fruits[-1]}\")\n",
    "\n",
    "# Tuple操作\n",
    "print(\"\\nTuple操作示例：\")\n",
    "coordinates = (3, 4)\n",
    "x, y = coordinates\n",
    "print(f\"Coordinates: {coordinates}\")\n",
    "print(f\"X: {x}, Y: {y}\")\n",
    "\n",
    "# Dictionary操作\n",
    "print(\"\\nDictionary操作示例：\")\n",
    "student = {\n",
    "    'name': 'John',\n",
    "    'age': 20,\n",
    "    'courses': ['Math', 'Physics']\n",
    "}\n",
    "print(f\"Student info: {student}\")\n",
    "print(f\"Name: {student['name']}\")\n",
    "print(f\"Courses: {student['courses']}\")\n",
    "\n",
    "# Set操作\n",
    "print(\"\\nSet操作示例：\")\n",
    "numbers_a = {1, 2, 3, 4, 5}\n",
    "numbers_b = {4, 5, 6, 7, 8}\n",
    "print(f\"Set A: {numbers_a}\")\n",
    "print(f\"Set B: {numbers_b}\")\n",
    "print(f\"Union: {numbers_a | numbers_b}\")\n",
    "print(f\"Intersection: {numbers_a & numbers_b}\")"
   ],
   "metadata": {
    "id": "1sOprYhJeO9A",
    "colab": {
     "base_uri": "https://localhost:8080/"
    },
    "executionInfo": {
     "status": "ok",
     "timestamp": 1732465132191,
     "user_tz": -480,
     "elapsed": 654,
     "user": {
      "displayName": "李浩維",
      "userId": "12896599080187896274"
     }
    },
    "outputId": "ba98bd31-c107-4f31-ba68-5039f8fdddc3",
    "ExecuteTime": {
     "end_time": "2025-02-25T07:45:14.420716Z",
     "start_time": "2025-02-25T07:45:14.417916Z"
    }
   },
   "execution_count": 5,
   "outputs": [
    {
     "name": "stdout",
     "output_type": "stream",
     "text": [
      "List操作示例：\n",
      "List: ['apple', 'banana', 'orange', 'grape']\n",
      "First fruit: apple\n",
      "Last fruit: grape\n",
      "\n",
      "Tuple操作示例：\n",
      "Coordinates: (3, 4)\n",
      "X: 3, Y: 4\n",
      "\n",
      "Dictionary操作示例：\n",
      "Student info: {'name': 'John', 'age': 20, 'courses': ['Math', 'Physics']}\n",
      "Name: John\n",
      "Courses: ['Math', 'Physics']\n",
      "\n",
      "Set操作示例：\n",
      "Set A: {1, 2, 3, 4, 5}\n",
      "Set B: {4, 5, 6, 7, 8}\n",
      "Union: {1, 2, 3, 4, 5, 6, 7, 8}\n",
      "Intersection: {4, 5}\n"
     ]
    }
   ]
  },
  {
   "cell_type": "markdown",
   "source": [
    "## 📝 課程總結\n",
    "\n",
    "恭喜你完成 Python 基礎知識的學習！你現在已經掌握了：\n",
    "* Python 的基本資料型態\n",
    "* 基本運算符號的使用\n",
    "* 流程控制結構\n",
    "* 函數的定義與使用\n",
    "* 主要資料結構的操作\n",
    "\n",
    "## 📚 延伸閱讀\n",
    "* [Python 官方文檔](https://docs.python.org/3/)\n",
    "* [Python 教學網站 - W3Schools](https://www.w3schools.com/python/)\n",
    "* [Python 教學網站 - Real Python](https://realpython.com/)\n",
    "\n",
    "記得多加練習，實作是學習程式語言最好的方式！"
   ],
   "metadata": {
    "id": "vryYYjkZeT64"
   }
  },
  {
   "cell_type": "code",
   "outputs": [],
   "source": [],
   "metadata": {
    "collapsed": false
   }
  }
 ]
}
